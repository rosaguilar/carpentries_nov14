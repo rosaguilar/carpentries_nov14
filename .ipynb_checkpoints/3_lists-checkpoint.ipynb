{
 "cells": [
  {
   "cell_type": "markdown",
   "id": "b233d621-4226-44f9-9061-6af2c8c75dff",
   "metadata": {},
   "source": [
    "**Programming with Python- Day1**\n",
    "\n",
    "Carpentries Software workshop. **University of Twente**. November 14, 2024.\n",
    "\n",
    "Adapted by **Dr. Rosa Aguilar**, from the software carpentry **Programming with Python** material"
   ]
  },
  {
   "cell_type": "markdown",
   "id": "4e86f8ef-b5b3-4fd9-9985-11d8edc1fcb7",
   "metadata": {},
   "source": [
    "### Python lists\n",
    "Lists are built into the language so we do not have to load a library to use them. We create a list by putting values inside square brackets and separating the values with commas:"
   ]
  },
  {
   "cell_type": "code",
   "execution_count": 1,
   "id": "daf9064c-72c0-4e2f-a8b8-ad76c545293b",
   "metadata": {},
   "outputs": [
    {
     "name": "stdout",
     "output_type": "stream",
     "text": [
      "odds are: [1, 3, 5, 7]\n"
     ]
    }
   ],
   "source": [
    "odds = [1, 3, 5, 7]\n",
    "print('odds are:', odds)"
   ]
  },
  {
   "cell_type": "markdown",
   "id": "eec0673a-f445-45ef-965c-3e2aa20f052a",
   "metadata": {},
   "source": [
    "We can access elements of a list using indices – numbered positions of elements in the list. These positions are numbered starting at 0, so the first element has an index of 0."
   ]
  },
  {
   "cell_type": "code",
   "execution_count": 4,
   "id": "89f788d0-d5bc-4ec9-b879-0e0763487736",
   "metadata": {},
   "outputs": [
    {
     "name": "stdout",
     "output_type": "stream",
     "text": [
      "1\n",
      "7\n",
      "7\n"
     ]
    }
   ],
   "source": [
    "# write here the code to access the first, the last element (by number and using -1)\n",
    "print(odds[0])\n",
    "print(odds[3])\n",
    "print(odds[-1])"
   ]
  },
  {
   "cell_type": "markdown",
   "id": "1baf103e-19cc-4005-afb2-03dd26d10bc8",
   "metadata": {},
   "source": [
    "A list can have different datatype,e.g., list of integers, floats or list of strings.<br>\n",
    "Values of a list can be changed while values in a string cannot be directly changed."
   ]
  },
  {
   "cell_type": "code",
   "execution_count": 5,
   "id": "38e30f21-1e81-40b6-a7cf-b6fc2fb01534",
   "metadata": {},
   "outputs": [
    {
     "name": "stdout",
     "output_type": "stream",
     "text": [
      "names is originally: ['Curie', 'Darwing', 'Turing']\n",
      "final value of names: ['Curie', 'Darwin', 'Turing']\n"
     ]
    }
   ],
   "source": [
    "# the code below works\n",
    "names = ['Curie', 'Darwing', 'Turing']  # typo in Darwin's name\n",
    "print('names is originally:', names)\n",
    "names[1] = 'Darwin'  # correct the name\n",
    "print('final value of names:', names)"
   ]
  },
  {
   "cell_type": "code",
   "execution_count": 8,
   "id": "775899a0-50c7-4c23-b4d4-2e856976e5c8",
   "metadata": {},
   "outputs": [],
   "source": [
    "# the code below *does not* work\n",
    "name = 'Darwin'\n",
    "name= 'darwin'"
   ]
  },
  {
   "cell_type": "code",
   "execution_count": 9,
   "id": "9aea497f-9d03-4a79-bc0e-81cfe1a8af9f",
   "metadata": {},
   "outputs": [
    {
     "name": "stdout",
     "output_type": "stream",
     "text": [
      "['Hadi', 37, 'Indonesia', 75.6]\n"
     ]
    }
   ],
   "source": [
    "mylist = ['Hadi', 37, 'Indonesia', 68.6]\n",
    "mylist[3] = 68.6 + 7\n",
    "print(mylist)"
   ]
  },
  {
   "cell_type": "markdown",
   "id": "3c11c1be-c89d-4696-919e-5ec802504504",
   "metadata": {},
   "source": [
    "Lists in Python can store element of different datatypes\n",
    "\n",
    "```\n",
    "sample_ages = [10, 12.5, 'Unknown']\n",
    "```"
   ]
  },
  {
   "cell_type": "markdown",
   "id": "e7f05cbe-f134-4da9-8225-5f35b29a5e1b",
   "metadata": {},
   "source": [
    "#### Mutable and inmutable data\n",
    "Data that can be modified in place is called *mutable*, while data that cannot be modified is called *immutable*. Strings and numbers are immutable. This does not mean that variables with string or number values are constants, but when we want to change the value of a string or number variable, we can only replace the old value with a completely new value.<br>\n",
    "\n",
    "Lists and arrays, on the other hand, are mutable: we can modify them after they have been created. We can change individual elements, append new elements, or reorder the whole list. For some operations, like sorting, we can choose whether to use a function that modifies the data in-place or a function that returns a modified copy and leaves the original unchanged.<br>\n",
    "\n",
    "Be careful when modifying data in-place. If two variables refer to the same list, and you modify the list value, it will change for both variables!\n",
    "For collections that are mutable or contain mutable items, assignment statements in Python do not copy objects.  They create bindings between a target and an object *shallow copy*.  A deep copy is sometimes needed so one can change one copy without changing the other. "
   ]
  },
  {
   "cell_type": "code",
   "execution_count": null,
   "id": "19a37d20-da6a-467a-90d8-7ad41c8f3810",
   "metadata": {},
   "outputs": [],
   "source": [
    "mild_salsa = ['peppers', 'onions', 'koriander', 'tomatoes']\n",
    "hot_salsa = mild_salsa        # <-- mild_salsa and hot_salsa point to the *same* list data in memory\n",
    "hot_salsa[0] = 'hot peppers'\n",
    "print('Ingredients in mild salsa:', mild_salsa)\n",
    "print('Ingredients in hot salsa:', hot_salsa)"
   ]
  },
  {
   "cell_type": "code",
   "execution_count": 11,
   "id": "60f71130-ec07-4fa2-a643-a0705dff0cc6",
   "metadata": {},
   "outputs": [
    {
     "name": "stdout",
     "output_type": "stream",
     "text": [
      "['hot peppers', 'onions', 'koriander', 'tomatoes']\n",
      "['hot peppers', 'onions', 'koriander', 'tomatoes']\n"
     ]
    }
   ],
   "source": [
    "mild_salsa = ['peppers', 'onions', 'koriander', 'tomatoes']\n",
    "hot_salsa = mild_salsa\n",
    "hot_salsa[0] = 'hot peppers'\n",
    "print(mild_salsa)\n",
    "print(hot_salsa)"
   ]
  },
  {
   "cell_type": "markdown",
   "id": "2f8500b1-7087-4d90-8c05-d3086b74cc8b",
   "metadata": {},
   "source": [
    "If you want variables with mutable values to be independent, you must make a copy (deep) of the value when you assign it.<br>\n",
    "A *shallow copy* constructs a new compound object and then (to the extent possible) inserts references into it to the objects found in the original.<br>\n",
    "A *deep copy* constructs a new compound object and then, recursively, inserts *copies* into it of the objects found in the original"
   ]
  },
  {
   "cell_type": "code",
   "execution_count": 12,
   "id": "23f0fca8-083c-4184-bf5c-665a2ac4b9a4",
   "metadata": {},
   "outputs": [
    {
     "name": "stdout",
     "output_type": "stream",
     "text": [
      "Ingredients in new salsa: ['peppers', 'onions', 'koriander', 'tomatoes']\n",
      "Ingredients in mild salsa: ['peppers', 'onions', 'koriander', 'tomatoes']\n"
     ]
    }
   ],
   "source": [
    "# shallow copy\n",
    "mild_salsa = ['peppers', 'onions', 'cilantro', 'tomatoes']\n",
    "new_salsa = mild_salsa # <-- makes a *shallow copy* of the list\n",
    "mild_salsa[2]= 'koriander'\n",
    "\n",
    "print('Ingredients in new salsa:', new_salsa)\n",
    "print('Ingredients in mild salsa:', mild_salsa)"
   ]
  },
  {
   "cell_type": "code",
   "execution_count": 2,
   "id": "f63044db-8bd7-4676-b486-0ca8df10103e",
   "metadata": {},
   "outputs": [
    {
     "name": "stdout",
     "output_type": "stream",
     "text": [
      "Ingredients in mild salsa: ['peppers', 'onions', 'cilantro', 'tomatoes']\n",
      "Ingredients in hot salsa: ['hot peppers', 'onions', 'cilantro', 'tomatoes']\n"
     ]
    }
   ],
   "source": [
    "# deep copy\n",
    "mild_salsa = ['peppers', 'onions', 'koriander', 'tomatoes']\n",
    "hot_salsa = list(mild_salsa)        # <-- makes a *deep copy* of the list\n",
    "\n",
    "hot_salsa[0] = 'hot peppers'\n",
    "print('Ingredients in mild salsa:', mild_salsa)\n",
    "print('Ingredients in hot salsa:', hot_salsa)"
   ]
  },
  {
   "cell_type": "code",
   "execution_count": 14,
   "id": "ab0cce44-eb5a-4ed0-96ee-841e4cdd8af6",
   "metadata": {},
   "outputs": [
    {
     "name": "stdout",
     "output_type": "stream",
     "text": [
      "Ingredients in mild salsa: ['peppers', 'onions', 'koriander', 'tomatoes']\n",
      "Ingredients in hot salsa: ['hot peppers', 'onions', 'koriander', 'tomatoes']\n"
     ]
    }
   ],
   "source": [
    "mild_salsa = ['peppers', 'onions', 'koriander', 'tomatoes']\n",
    "hot_salsa = list(mild_salsa)\n",
    "hot_salsa[0] = 'hot peppers'\n",
    "print('Ingredients in mild salsa:', mild_salsa)\n",
    "print('Ingredients in hot salsa:', hot_salsa)"
   ]
  },
  {
   "cell_type": "markdown",
   "id": "62930273-7459-4a30-a0ea-6ee94bdad9e0",
   "metadata": {},
   "source": [
    "#### Slicing strings\n",
    "A string behaves similarly to a list with the main difference, as shown above, that a string is immutable—you cannot change its content after creation.\n",
    "We can *slice* a string as we do with lists\n"
   ]
  },
  {
   "cell_type": "code",
   "execution_count": 15,
   "id": "576ce943-1a80-414f-91d2-93d03081dfcd",
   "metadata": {},
   "outputs": [
    {
     "name": "stdout",
     "output_type": "stream",
     "text": [
      "first three characters: oxy\n",
      "last three characters: gen\n"
     ]
    }
   ],
   "source": [
    "element = 'oxygen'\n",
    "print('first three characters:', element[0:3])\n",
    "print('last three characters:', element[3:6])"
   ]
  },
  {
   "cell_type": "code",
   "execution_count": 16,
   "id": "6f874c8c-e622-4a76-9310-97cf73fdf722",
   "metadata": {},
   "outputs": [
    {
     "name": "stdout",
     "output_type": "stream",
     "text": [
      "xyge\n"
     ]
    }
   ],
   "source": [
    "print(element[1:-1])"
   ]
  },
  {
   "cell_type": "markdown",
   "id": "0babd681-e5b6-4429-857c-2fbe841c226a",
   "metadata": {},
   "source": [
    "What is element[-1]? What is element[-2]?"
   ]
  },
  {
   "cell_type": "code",
   "execution_count": 17,
   "id": "16e9481c-2754-40bd-877a-28ab26d76489",
   "metadata": {},
   "outputs": [
    {
     "name": "stdout",
     "output_type": "stream",
     "text": [
      "Monday Monday\n"
     ]
    }
   ],
   "source": [
    "date = 'Monday 4 January 2016'\n",
    "print(date[0:6], date[:6])"
   ]
  },
  {
   "cell_type": "markdown",
   "id": "75911a28-5240-4056-9f6b-4a0f60141692",
   "metadata": {},
   "source": [
    "Given those answers, explain what element[1:-1] does."
   ]
  },
  {
   "cell_type": "markdown",
   "id": "becce438-e21f-4dae-baff-994cf29e8086",
   "metadata": {},
   "source": [
    "#### Slicing from the end\n",
    "If you want to take a slice from the beginning of a sequence, you can omit the first index in the range:\n",
    "```\n",
    "date = 'Monday 4 January 2016'\n",
    "day = date[0:6]\n",
    "print('Using 0 to begin range:', day)\n",
    "day = date[:6]\n",
    "print('Omitting beginning index:', day)\n",
    "```\n",
    "Similarly, you can omit the ending index in the range to take a slice to the end of the list\n",
    "```\n",
    "months = ['jan', 'feb', 'mar', 'apr', 'may', 'jun', 'jul', 'aug', 'sep', 'oct', 'nov', 'dec']\n",
    "sond = months[8:12]\n",
    "print('With known last position:', sond)\n",
    "sond = months[8:len(months)]\n",
    "print('Using len() to get last entry:', sond)\n",
    "sond = months[8:]\n",
    "print('Omitting ending index:', sond)\n",
    "```"
   ]
  },
  {
   "cell_type": "code",
   "execution_count": 20,
   "id": "bfaef6f8-0dc6-4d49-9014-1e5bf079197e",
   "metadata": {},
   "outputs": [
    {
     "name": "stdout",
     "output_type": "stream",
     "text": [
      "12\n",
      "['sep', 'oct', 'nov', 'dec']\n"
     ]
    }
   ],
   "source": [
    "months = ['jan', 'feb', 'mar', 'apr', 'may', 'jun', 'jul', 'aug', 'sep', 'oct', 'nov', 'dec']\n",
    "print(len(months))\n",
    "sond = months[8:len(months)]\n",
    "print(sond)"
   ]
  },
  {
   "cell_type": "markdown",
   "id": "e20f18e3-183d-4c76-974a-f9d0f03e2e3d",
   "metadata": {},
   "source": [
    "#### Non continuos slices\n",
    "We can take a subset of entries that aren’t next to each other in a list by providing a step size.\n",
    "The example below shows how you can take every third entry in a list:\n",
    "```\n",
    "primes = [2, 3, 5, 7, 11, 13, 17, 19, 23, 29, 31, 37]\n",
    "subset = primes[0:12:3]\n",
    "print('subset', subset)\n",
    "```"
   ]
  },
  {
   "cell_type": "code",
   "execution_count": 21,
   "id": "295c9eb2-36bb-4846-a7f8-d597a847f4d5",
   "metadata": {},
   "outputs": [
    {
     "name": "stdout",
     "output_type": "stream",
     "text": [
      "subset [2, 7, 17, 29]\n"
     ]
    }
   ],
   "source": [
    "primes = [2, 3, 5, 7, 11, 13, 17, 19, 23, 29, 31, 37]\n",
    "subset = primes[0:12:3]\n",
    "print('subset', subset)"
   ]
  },
  {
   "cell_type": "markdown",
   "id": "2e05d4b3-0a47-41a9-a5d1-4c31735bd562",
   "metadata": {},
   "source": [
    "#### Checking your knowledge\n",
    "Given the string and list below. Write the code to slice only the last four characters of a string or entries of a list.\n",
    "```\n",
    "string_for_slicing = 'Observation date: 02-Feb-2013'\n",
    "list_for_slicing = [['fluorine', 'F'],\n",
    "                    ['chlorine', 'Cl'],\n",
    "                    ['bromine', 'Br'],\n",
    "                    ['iodine', 'I'],\n",
    "                    ['astatine', 'At']]\n",
    "```"
   ]
  },
  {
   "cell_type": "code",
   "execution_count": null,
   "id": "1aa28eee-ba31-4df6-89be-d9b645351378",
   "metadata": {},
   "outputs": [],
   "source": [
    "# write the code here\n"
   ]
  },
  {
   "cell_type": "markdown",
   "id": "d24840c2-c5a8-4e82-ad9a-f6f58355ec39",
   "metadata": {},
   "source": [
    "#### Other operations with lists\n",
    "\n",
    "In addition to directly modifying an element in a list, there are many ways to modify the content of lists.\n",
    "We can add elements *append*, remove *pop*, changing the elements order *reverse*"
   ]
  },
  {
   "cell_type": "code",
   "execution_count": 23,
   "id": "ff9c29b4-5d32-4995-a89c-b4805941d467",
   "metadata": {},
   "outputs": [
    {
     "name": "stdout",
     "output_type": "stream",
     "text": [
      "[1, 3, 5, 7, 11]\n"
     ]
    }
   ],
   "source": [
    "# write code here to append the number 11 to the odds list\n",
    "odds.append(11)\n",
    "print(odds)"
   ]
  },
  {
   "cell_type": "code",
   "execution_count": 24,
   "id": "1f43b0db-0e68-4bb1-a063-fd3736e30d87",
   "metadata": {},
   "outputs": [
    {
     "name": "stdout",
     "output_type": "stream",
     "text": [
      "[3, 5, 7, 11]\n"
     ]
    }
   ],
   "source": [
    "# write code here to remove the first element.  pop removes the element at the specified position\n",
    "odds.pop(0)\n",
    "print(odds)"
   ]
  },
  {
   "cell_type": "code",
   "execution_count": 34,
   "id": "4135100c-431a-4ad0-99c1-51926470e5a1",
   "metadata": {},
   "outputs": [
    {
     "name": "stdout",
     "output_type": "stream",
     "text": [
      "[7, 5, 3, 1]\n"
     ]
    }
   ],
   "source": [
    "# write the code here to reverse the list\n",
    "odds= [1,3,5,7]\n",
    "odds.reverse()\n",
    "print(odds)"
   ]
  },
  {
   "cell_type": "code",
   "execution_count": 37,
   "id": "3ac3ed8c-3223-4e8a-ab10-a4cff54f9308",
   "metadata": {},
   "outputs": [
    {
     "name": "stdout",
     "output_type": "stream",
     "text": [
      "[1, 3, 5, 7] [7, 5, 3, 1]\n"
     ]
    }
   ],
   "source": [
    "odds = [1,3,5,7]\n",
    "oddsr = list(reversed(odds))\n",
    "print(odds, oddsr)"
   ]
  },
  {
   "cell_type": "markdown",
   "id": "bf7562fe-07b4-4df0-8bc4-edf102ee949f",
   "metadata": {},
   "source": [
    "#### Nested lists\n",
    "Since a list can contain any Python variables, it can even contain other lists.\n",
    "\n",
    "For example, you could represent the products on the shelves of a small grocery shop as a nested list called veg:\n",
    "\n",
    "<img src=\"04_groceries_veg.png\" width=\"600\">\n",
    "\n",
    "To store the contents of the shelf in a nested list, you write it this way:\n",
    "```\n",
    "veg = [['lettuce', 'lettuce', 'peppers', 'zucchini'],\n",
    "     ['lettuce', 'lettuce', 'peppers', 'zucchini'],\n",
    "     ['lettuce', 'cilantro', 'peppers', 'zucchini']]\n",
    "```\n",
    "\n",
    "You can reference each row on the shelf as a separate list as shown in the figure below:\n",
    "\n",
    "<img src=\"04_groceries_veg0.png\" width=\"600\">"
   ]
  },
  {
   "cell_type": "code",
   "execution_count": 38,
   "id": "f4b335e4-c93b-439d-abb1-69e93bd28f3e",
   "metadata": {},
   "outputs": [
    {
     "name": "stdout",
     "output_type": "stream",
     "text": [
      "['lettuce', 'cilantro', 'peppers', 'zucchini']\n"
     ]
    }
   ],
   "source": [
    "# write code here to print the third row of the list\n",
    "veg = [['lettuce', 'lettuce', 'peppers', 'zucchini'],\n",
    "     ['lettuce', 'lettuce', 'peppers', 'zucchini'],\n",
    "     ['lettuce', 'cilantro', 'peppers', 'zucchini']]\n",
    "print(veg[2])"
   ]
  },
  {
   "cell_type": "code",
   "execution_count": 39,
   "id": "01088db8-b60f-4578-be47-1f8d29b0830c",
   "metadata": {},
   "outputs": [
    {
     "name": "stdout",
     "output_type": "stream",
     "text": [
      "['lettuce', 'lettuce', 'peppers', 'zucchini']\n"
     ]
    }
   ],
   "source": [
    "# write code here to print the first row of the list\n",
    "print(veg[0])"
   ]
  },
  {
   "cell_type": "markdown",
   "id": "caa075c8-ca0e-4df6-9d9b-e8666345a92f",
   "metadata": {},
   "source": [
    "You use two indices to reference a specific basket on a specific shelf. The first index represents the row (from top to bottom) and the second index represents the specific basket (from left to right).\n",
    "<img src=\"04_groceries_veg00.png\" width=\"600\">"
   ]
  },
  {
   "cell_type": "code",
   "execution_count": 40,
   "id": "d5cb8d5f-eb0a-4fa9-9b63-66b533b34a20",
   "metadata": {},
   "outputs": [
    {
     "name": "stdout",
     "output_type": "stream",
     "text": [
      "lettuce\n"
     ]
    }
   ],
   "source": [
    "# write code here to print the first element of the nested list\n",
    "print(veg[0][0])"
   ]
  },
  {
   "cell_type": "code",
   "execution_count": 41,
   "id": "edd3a84b-05cb-4021-aff4-f3de81d6a3c7",
   "metadata": {},
   "outputs": [
    {
     "name": "stdout",
     "output_type": "stream",
     "text": [
      "peppers\n"
     ]
    }
   ],
   "source": [
    "# write code here to print the element in second row, third column of the nested list\n",
    "print(veg[1][2])"
   ]
  },
  {
   "cell_type": "markdown",
   "id": "bcb78179-bbb1-4c06-af04-6ae4273abbfd",
   "metadata": {},
   "source": [
    "#### Overloading\n",
    "\n",
    "**Operator overloading** means that a single operator, like + or * can do different things depending on what it's applied to.<br>\n",
    "```\n",
    "counts = [2, 4, 6, 8, 10]\n",
    "repeats = counts * 2\n",
    "print(repeats)\n",
    "```\n",
    "+ '+' usually means addition, when applied to lists --> *concatenation*\n",
    "+ what does * do? write the code in the cell below"
   ]
  },
  {
   "cell_type": "code",
   "execution_count": 44,
   "id": "baf71e37-5e23-4a94-bf30-2f65d7711f73",
   "metadata": {},
   "outputs": [
    {
     "data": {
      "text/plain": [
       "4"
      ]
     },
     "execution_count": 44,
     "metadata": {},
     "output_type": "execute_result"
    }
   ],
   "source": [
    "2*2"
   ]
  },
  {
   "cell_type": "code",
   "execution_count": 45,
   "id": "d9f39690-77a7-442a-9916-71ba4f991638",
   "metadata": {},
   "outputs": [
    {
     "name": "stdout",
     "output_type": "stream",
     "text": [
      "<class 'list'>\n",
      "[2, 4, 6, 8, 10, 2, 4, 6, 8, 10]\n"
     ]
    }
   ],
   "source": [
    "counts = [2, 4, 6, 8, 10]\n",
    "print(type(counts))\n",
    "print(counts* 2)"
   ]
  },
  {
   "cell_type": "code",
   "execution_count": 49,
   "id": "2aec466d-a407-4e1c-93c7-b881742787e8",
   "metadata": {},
   "outputs": [
    {
     "name": "stdout",
     "output_type": "stream",
     "text": [
      "[2, 4, 6, 8, 10, 2]\n"
     ]
    }
   ],
   "source": [
    "counts = [2, 4, 6, 8, 10]\n",
    "\n",
    "print(counts + [2])"
   ]
  },
  {
   "cell_type": "markdown",
   "id": "40a29c88-96ff-4827-a68a-45c20fba7482",
   "metadata": {},
   "source": [
    "**Key points**\n",
    "<ul>\n",
    "    <li>[value1, value2, value3, ...] creates a list.</li>\n",
    "    <li>Lists can contain any Python object, including lists (i.e., list of lists).</li>\n",
    "    <li>Lists are indexed and sliced with square brackets (e.g., list[0] and list[2:9]), in the same way as strings and arrays.</li>\n",
    "    <li>Lists are mutable (i.e., their values can be changed in place).</li>\n",
    "    <li>Strings are immutable (i.e., the characters in them cannot be changed).</li>\n",
    "</ul>"
   ]
  },
  {
   "cell_type": "code",
   "execution_count": 12,
   "id": "b3a73a6e-6325-49f0-8ef4-42efdc591a5d",
   "metadata": {},
   "outputs": [],
   "source": [
    "string_for_slicing = 'Observation date: 02-Feb-2013'\n",
    "list_for_slicing = [['fluorine', 'F'],\n",
    "                    ['chlorine', 'Cl'],\n",
    "                    ['bromine', 'Br'],\n",
    "                    ['iodine', 'I'],\n",
    "                    ['astatine', 'At']]"
   ]
  },
  {
   "cell_type": "code",
   "execution_count": 14,
   "id": "bb27cac4-6b52-4a8e-9689-53a03823a4ab",
   "metadata": {},
   "outputs": [],
   "source": [
    "# write code to access the last four characters A[-4:]\n"
   ]
  },
  {
   "cell_type": "code",
   "execution_count": null,
   "id": "fb9db00f-b7af-482c-ba56-5f7268784127",
   "metadata": {},
   "outputs": [],
   "source": [
    "# write code to access the last four entries\n"
   ]
  },
  {
   "cell_type": "markdown",
   "id": "e7d353ac-5d43-46b7-b7db-bc88448ba30b",
   "metadata": {},
   "source": [
    "Would your solution work regardless of whether you knew beforehand the length of the string or list (e.g. if you wanted to apply the solution to a set of lists of different lengths)?"
   ]
  },
  {
   "cell_type": "code",
   "execution_count": null,
   "id": "cc20450c-3a4c-4d5e-a01f-875ae464f8aa",
   "metadata": {},
   "outputs": [],
   "source": []
  },
  {
   "cell_type": "code",
   "execution_count": 15,
   "id": "1e0605de-2e09-40a5-9aeb-6436452cb47b",
   "metadata": {},
   "outputs": [
    {
     "name": "stdout",
     "output_type": "stream",
     "text": [
      "subset [2, 7, 17, 29]\n"
     ]
    }
   ],
   "source": [
    "primes = [2, 3, 5, 7, 11, 13, 17, 19, 23, 29, 31, 37]\n",
    "subset = primes[0:12:3]\n",
    "print('subset', subset)"
   ]
  },
  {
   "cell_type": "code",
   "execution_count": null,
   "id": "9d67b56e-ff94-49e4-918f-65e6ec8626b2",
   "metadata": {},
   "outputs": [],
   "source": [
    "# try yourself - write the code below\n"
   ]
  },
  {
   "cell_type": "code",
   "execution_count": null,
   "id": "f71c0585-0736-4eb6-8f61-d8f21a42936b",
   "metadata": {},
   "outputs": [],
   "source": [
    "\n",
    "<ul>\n",
    "    <li>\n",
    "        \n",
    "    </li>\n",
    "</ul>\n"
   ]
  }
 ],
 "metadata": {
  "kernelspec": {
   "display_name": "Python 3 (ipykernel)",
   "language": "python",
   "name": "python3"
  },
  "language_info": {
   "codemirror_mode": {
    "name": "ipython",
    "version": 3
   },
   "file_extension": ".py",
   "mimetype": "text/x-python",
   "name": "python",
   "nbconvert_exporter": "python",
   "pygments_lexer": "ipython3",
   "version": "3.8.19"
  }
 },
 "nbformat": 4,
 "nbformat_minor": 5
}
