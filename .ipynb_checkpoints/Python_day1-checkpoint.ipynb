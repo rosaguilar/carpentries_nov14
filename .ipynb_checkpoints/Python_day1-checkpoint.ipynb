{
 "cells": [
  {
   "cell_type": "markdown",
   "id": "0b28db7e-61ea-43da-aacf-bc5d4840598e",
   "metadata": {},
   "source": [
    "**Programming with Python- Day1**\n",
    "\n",
    "Carpentries Software workshop. **University of Twente**. November 14, 2024.\n",
    "\n",
    "Adapted by **Dr. Rosa Aguilar**, from the software carpentry **Programming with Python** material"
   ]
  },
  {
   "cell_type": "markdown",
   "id": "48668625-5873-47ea-9a3f-194932c3f3eb",
   "metadata": {},
   "source": [
    "### 1. Data overview\n",
    "#### Motivation - A miracle arthritis inflammation cure\r\n",
    "Our imaginary colleague “Dr. Maverick” has invented a new miracle drug that promises to cure arthritis inflammation flare-ups after only 3 weeks since initially taking the medication! Naturally, we wish to see the clinical trial data, and after months of asking for the data they have finally provided us with a CSV spreadsheet containing the clinical trial data.\r\n",
    "\r\n",
    "The CSV file contains the number of inflammation flare-ups per day for the 60 patients in the initial clinical trial, with the trial lasting 40 days. Each row corresponds to a patient, and each column corresponds to a day in the trial. Once a patient has their first inflammation flare-up they take the medication and wait a few weeks for it to take effect and reduce inflammation"
   ]
  },
  {
   "cell_type": "markdown",
   "id": "395c4009-ed50-4e35-a758-f4e19ab82814",
   "metadata": {},
   "source": [
    "To see how effective the treatment is, we would like:\n",
    "<br>\n",
    "<ol>\n",
    "  <li>\n",
    "    Calculate the average inflammation per day across all patients.\n",
    "  </li>\n",
    "  <li>\n",
    "    Plot the result to discuss and share with colleagues.\n",
    "  </li>\n",
    "</ol><img src=\"lesson-overview.svg\" width=\"600\">"
   ]
  },
  {
   "cell_type": "markdown",
   "id": "fecdca5c-3e24-4f0c-a493-793f914d82b4",
   "metadata": {},
   "source": [
    "#### Data format\n",
    "The data sets are stored in *comma-separated values (CSV)* format:\n",
    "<ul>\n",
    "<li>each row holds information for a single patient,</li>\n",
    "<li>columns represent successive days.</li>\n",
    "</ul>\n",
    "The first three rows of our first file look like this:\n",
    "\n",
    "```\n",
    "0,0,1,3,1,2,4,7,8,3,3,3,10,5,7,4,7,7,12,18,6,13,11,11,7,7,4,6,8,8,4,4,5,7,3,4,2,3,0,0\n",
    "0,1,2,1,2,1,3,2,2,6,10,11,5,9,4,4,7,16,8,6,18,4,12,5,12,7,11,5,11,3,3,5,4,4,5,5,1,1,0,1\n",
    "0,1,1,3,3,2,6,2,5,9,5,7,4,5,4,15,5,11,9,10,19,14,12,17,7,12,11,7,4,2,10,5,4,2,2,3,2,2,1,1\n",
    "```\n",
    "\n",
    "Each number represents the number of inflammation bouts that a particular patient experienced on a given day.<br>\n",
    "\n",
    "For example, value “6” at row 3 column 7 of the data set above means that the third patient was experiencing inflammation six times on the seventh day of the clinical study.\n",
    "\n",
    "We’ll learn a little bit about programming in order to analyze this data and report to our colleagues."
   ]
  },
  {
   "cell_type": "markdown",
   "id": "5a9b5b6c-0f3e-4ea5-9b4a-ec92f2e59fa9",
   "metadata": {},
   "source": [
    "Let's get started<br>\n",
    "\n",
    "[1. Python fundamentals](./1.fundamentals.ipynb) <br>\n",
    "[2. Analyzing patient data](./2.analysis.ipynb)<br>\n",
    "[3. Lists](./3_lists.ipynb)<br>\n",
    "[4.Visualizing Tabular Data](4_visualizing_data.ipynb)<br>\n",
    "[5. Repeating Actions with Loops](5._loops.ipynb)<br>\n",
    "[6. Analyzing Data from Multiple Files](6._data_from_multiple_files.ipynb)<br>"
   ]
  },
  {
   "cell_type": "code",
   "execution_count": null,
   "id": "c37d351c-664e-4f0a-aa68-0239804b9ac2",
   "metadata": {},
   "outputs": [],
   "source": []
  }
 ],
 "metadata": {
  "kernelspec": {
   "display_name": "Python 3 (ipykernel)",
   "language": "python",
   "name": "python3"
  },
  "language_info": {
   "codemirror_mode": {
    "name": "ipython",
    "version": 3
   },
   "file_extension": ".py",
   "mimetype": "text/x-python",
   "name": "python",
   "nbconvert_exporter": "python",
   "pygments_lexer": "ipython3",
   "version": "3.8.19"
  }
 },
 "nbformat": 4,
 "nbformat_minor": 5
}
