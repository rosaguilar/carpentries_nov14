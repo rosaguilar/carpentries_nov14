{
 "cells": [
  {
   "cell_type": "markdown",
   "id": "d7b4bc13-482f-462a-a181-480f103bdf3f",
   "metadata": {},
   "source": [
    "### 2. Analysis patient data\n",
    "We will use a library called **Numpy** to analyse the patient data. \n",
    "**Numpy** stands for Numerical Python and it has plenty functions to operate with lots of numbers or more complex data structures such as lists, arrays and matrices.<br>\n",
    "Prior to use a library we need to import it\n"
   ]
  },
  {
   "cell_type": "code",
   "execution_count": null,
   "id": "077c6edf-e6a3-4c09-877c-d61cdb746a3c",
   "metadata": {},
   "outputs": [],
   "source": [
    "# import numpy  - we can also use an alias, import numpy as np"
   ]
  },
  {
   "cell_type": "code",
   "execution_count": 1,
   "id": "aeb6618e-d268-4b3c-abc2-46232a26e124",
   "metadata": {},
   "outputs": [],
   "source": [
    "import numpy as np"
   ]
  },
  {
   "cell_type": "code",
   "execution_count": 4,
   "id": "0144c2ae-221f-4c2f-b1d8-672e42be8c7e",
   "metadata": {},
   "outputs": [
    {
     "data": {
      "text/plain": [
       "array([[0., 0., 1., ..., 3., 0., 0.],\n",
       "       [0., 1., 2., ..., 1., 0., 1.],\n",
       "       [0., 1., 1., ..., 2., 1., 1.],\n",
       "       ...,\n",
       "       [0., 1., 1., ..., 1., 1., 1.],\n",
       "       [0., 0., 0., ..., 0., 2., 0.],\n",
       "       [0., 0., 1., ..., 1., 1., 0.]])"
      ]
     },
     "execution_count": 4,
     "metadata": {},
     "output_type": "execute_result"
    }
   ],
   "source": [
    "# let's load the data\n",
    "np.loadtxt(fname='./swc-python/data/inflammation-01.csv', delimiter=',')"
   ]
  },
  {
   "cell_type": "code",
   "execution_count": 27,
   "id": "0e6e94f9-679d-42e9-834a-96511ad6dbff",
   "metadata": {},
   "outputs": [],
   "source": [
    "# let's assign the data to a vraible so we can operate with it\n",
    "data = np.loadtxt(fname='./swc-python/data/inflammation-01.csv', delimiter=',')"
   ]
  },
  {
   "cell_type": "code",
   "execution_count": null,
   "id": "81244eeb-0180-46f9-a853-f557dd269d94",
   "metadata": {},
   "outputs": [],
   "source": [
    "# print the content\n",
    "# print(data)"
   ]
  },
  {
   "cell_type": "code",
   "execution_count": null,
   "id": "2bbe99bf-77c8-486b-8695-92e728b1b02e",
   "metadata": {},
   "outputs": [],
   "source": [
    "# let’s ask what type of thing data refers to:\n"
   ]
  },
  {
   "cell_type": "markdown",
   "id": "4d1c77b3-1693-4988-b6b8-5442f7e10e68",
   "metadata": {},
   "source": [
    "A **Numpy** array contains one or more elements of the same type. The type function will only tell you that a variable is a NumPy array but won’t tell you the type of thing inside the array. We can find out the type of the data contained in the NumPy array using *dtype*."
   ]
  },
  {
   "cell_type": "code",
   "execution_count": null,
   "id": "c3a96b05-e9aa-4e54-8b27-868f426e58c2",
   "metadata": {},
   "outputs": [],
   "source": [
    "# print(data.dtype)"
   ]
  },
  {
   "cell_type": "markdown",
   "id": "6955c165-01bf-4725-afd1-3adcb775bb7b",
   "metadata": {},
   "source": [
    "The inflammation data stores patient records, each row represent a patient and each column a day.\n",
    "Intuitively, we can thik of a 'excel table'. We can use the property *shape* to know how many rows and columns an array has"
   ]
  },
  {
   "cell_type": "code",
   "execution_count": null,
   "id": "c3a42285-98d9-4e61-8523-9966be4d6184",
   "metadata": {},
   "outputs": [],
   "source": [
    "print()"
   ]
  },
  {
   "cell_type": "markdown",
   "id": "70d767df-5a5b-44cd-8bbe-ef7269f11423",
   "metadata": {},
   "source": [
    "If we want to get a single number from the array, we must provide an index in square brackets after the variable name, just as we do in math when referring to an element of a matrix. Our inflammation data has two dimensions, so we will need to use two indices to refer to one specific value:"
   ]
  },
  {
   "cell_type": "code",
   "execution_count": null,
   "id": "1373a6e4-2d49-4a45-b4e1-ea400e0ea4ae",
   "metadata": {},
   "outputs": [],
   "source": [
    "# print('first value in data:', data[0,0]) - please note the index starts at 0\n",
    "# The expression data[29, 19] accesses the element at row 30, column 20\n",
    "print('first value in data:', data[0,0])"
   ]
  },
  {
   "cell_type": "code",
   "execution_count": null,
   "id": "a2c324c0-2d35-4abc-aaec-221a7526aaa9",
   "metadata": {},
   "outputs": [],
   "source": [
    "Programming languages like Fortran, MATLAB and R start counting at 1 because that’s what human beings have done for thousands of years. Languages in the C family (including C++, Java, Perl, and Python) count from 0 because it represents an offset from the first value in the array (the second value is offset by one index from the first value)<br>\n",
    "<img src=\"python-zero-index.svg\" width=\"600\">"
   ]
  },
  {
   "cell_type": "markdown",
   "id": "6da527b8-8558-4a79-b233-707f0e371578",
   "metadata": {},
   "source": [
    "#### Slicing data\n",
    "An index like [30, 20] selects a single element of an array, but we can select whole sections as well. For example, we can select the first ten days (columns) of values for the first four patients (rows) like this:"
   ]
  },
  {
   "cell_type": "code",
   "execution_count": null,
   "id": "d46b7ab9-01f1-437c-8ec7-ff3a5497dfea",
   "metadata": {},
   "outputs": [],
   "source": [
    "# print(data[0:4, 0:10])"
   ]
  },
  {
   "cell_type": "markdown",
   "id": "ae2cd7d4-407e-421d-8677-08054093589c",
   "metadata": {},
   "source": [
    "We don’t have to start slices at 0:"
   ]
  },
  {
   "cell_type": "code",
   "execution_count": null,
   "id": "5f91c17c-6d7d-4690-8568-0d46cd9bb8c8",
   "metadata": {},
   "outputs": [],
   "source": [
    "# print(data[5:10, 0:10])"
   ]
  },
  {
   "cell_type": "markdown",
   "id": "b01d17ce-c89a-48f6-8f22-cd06a14b9c79",
   "metadata": {},
   "source": [
    "We also don’t have to include the upper and lower bound on the slice. If we don’t include the lower bound, Python uses 0 by default; if we don’t include the upper, the slice runs to the end of the axis, and if we don’t include either (i.e., if we use ‘:’ on its own), the slice includes everything:\n"
   ]
  },
  {
   "cell_type": "code",
   "execution_count": null,
   "id": "cbdc67d0-6602-49d4-810a-48827694f10f",
   "metadata": {},
   "outputs": [],
   "source": [
    "small = data[:3, 36:]\n",
    "print('small is:')\n",
    "print(small)"
   ]
  },
  {
   "cell_type": "markdown",
   "id": "4d373cf1-8371-4027-a71b-3df20024e2a4",
   "metadata": {},
   "source": [
    "#### Analysing data\n",
    "NumPy has several useful functions that take an array as input to perform operations on its values. If we want to find the average inflammation for all patients on all days, for example, we can ask NumPy to compute data’s **mean** value --> np.mean()"
   ]
  },
  {
   "cell_type": "code",
   "execution_count": null,
   "id": "9096d9bf-e157-4a49-b3e5-783c252908c9",
   "metadata": {},
   "outputs": [],
   "source": []
  },
  {
   "cell_type": "markdown",
   "id": "594530c9-6054-4e36-bf2c-3bcb1fc6c634",
   "metadata": {},
   "source": [
    "Similarly, we can calculate max (*amax*), min (*amin*) and standard deviation (*std*)\n",
    "NumPy adopted names such as amax and amin to differentiate from the standard native *max* and *min* functions."
   ]
  },
  {
   "cell_type": "code",
   "execution_count": null,
   "id": "2170bc6a-0560-44e6-b14c-3aaa949b13cb",
   "metadata": {},
   "outputs": [],
   "source": [
    "# code here to assign maxval, minval and stdval in one line\n",
    "\n",
    "# print the values"
   ]
  },
  {
   "cell_type": "markdown",
   "id": "4de4528a-6a9c-4caa-90e4-47b9683c1127",
   "metadata": {},
   "source": [
    "We can print the value of max or similar without using a variable\n"
   ]
  },
  {
   "cell_type": "code",
   "execution_count": null,
   "id": "89189707-ba85-43a2-8308-374c3505e82c",
   "metadata": {},
   "outputs": [],
   "source": [
    "# code here to print the value of max without using a veriable"
   ]
  },
  {
   "cell_type": "markdown",
   "id": "253bc7e4-621b-4461-8ed6-46079d55c11c",
   "metadata": {},
   "source": [
    "How did we know what functions NumPy has and how to use them? If you are working in IPython or in a Jupyter Notebook, there is an easy way to find out. If you type the name of something followed by a dot, then you can use **tab** completion (e.g. type numpy. and then press Tab) to see a list of all functions and attributes that you can use. After selecting one, you can also add a question mark (e.g. numpy.cumprod?), and you will obtain an explanation of the method! This is the same as doing help(numpy.cumprod). Similarly, if you are using the “plain vanilla” Python interpreter, you can type numpy. and press the **Tab** key twice for a listing of what is available. You can then use the **help()** function to see an explanation of the function you’re interested in, for example: **help(numpy.cumprod)**"
   ]
  },
  {
   "cell_type": "code",
   "execution_count": null,
   "id": "ec71ff63-10ab-4bb5-8e2f-dbaa9b47e8e8",
   "metadata": {},
   "outputs": [],
   "source": [
    "# exercise:  Print the maximum inflammation for patient 2\n",
    "# hint slice data [2,:]"
   ]
  },
  {
   "cell_type": "markdown",
   "id": "8c99c435-99db-470c-8e12-5cc1829035d4",
   "metadata": {},
   "source": [
    "What if we need the maximum inflammation for each patient over all days (as in the next diagram on the left) or the average for each day (as in the diagram on the right)? As the diagram below shows, we want to perform the operation across an axis. <br>\n",
    "To support this functionality, most array functions allow us to specify the axis we want to work on<br>\n",
    "<img src=\"python-operations-across-axes.png\" width=\"600\">"
   ]
  },
  {
   "cell_type": "code",
   "execution_count": null,
   "id": "43290a10-c73b-4b11-8452-0b6954b110fd",
   "metadata": {},
   "outputs": [],
   "source": [
    "# axis=1 --> by rows, axis 0 --> by columns\n",
    "# print the mean of the data by columns (per day)\n",
    "# print(numpy.mean(data, axis=0))"
   ]
  },
  {
   "cell_type": "code",
   "execution_count": null,
   "id": "24359559-a377-4e37-afb6-85a8f7251287",
   "metadata": {},
   "outputs": [],
   "source": [
    "# print the shape of the result"
   ]
  },
  {
   "cell_type": "markdown",
   "id": "5a783ad9-f61e-4dd6-b9af-d3340d0418eb",
   "metadata": {},
   "source": [
    "The expression (40,) tells us we have an N×1 vector, so this is the average inflammation per day for all patients"
   ]
  },
  {
   "cell_type": "code",
   "execution_count": null,
   "id": "f063ff66-3ce1-4eee-8490-534c1a0479be",
   "metadata": {},
   "outputs": [],
   "source": [
    "# compute the mean by columns  --> axis =1 \n"
   ]
  },
  {
   "cell_type": "code",
   "execution_count": null,
   "id": "93649d89-07a5-4909-b1df-b7bbbec3a4ea",
   "metadata": {},
   "outputs": [],
   "source": [
    "# print the shape of the result\n"
   ]
  },
  {
   "cell_type": "code",
   "execution_count": null,
   "id": "4cf45212-5fe4-4bb4-9cc6-062b34e47f1b",
   "metadata": {},
   "outputs": [],
   "source": [
    "*Question*: How can we interpret the result?"
   ]
  },
  {
   "cell_type": "markdown",
   "id": "fe5a5b01-bb17-49bd-96f5-0e50a5e689ae",
   "metadata": {},
   "source": [
    "#### Stacking arrays\n",
    "Arrays can be concatenated and stacked on top of one another, using NumPy’s vstack and hstack functions for vertical and horizontal stacking, respectively."
   ]
  },
  {
   "cell_type": "code",
   "execution_count": 9,
   "id": "41c0cf1f-7e4c-4949-998a-a4bfd5ce4813",
   "metadata": {},
   "outputs": [
    {
     "name": "stdout",
     "output_type": "stream",
     "text": [
      "A = \n",
      "[[1 2 3]\n",
      " [4 5 6]\n",
      " [7 8 9]]\n",
      "B = \n",
      "[[1 2 3 1 2 3]\n",
      " [4 5 6 4 5 6]\n",
      " [7 8 9 7 8 9]]\n",
      "C = \n",
      "[[1 2 3]\n",
      " [4 5 6]\n",
      " [7 8 9]\n",
      " [1 2 3]\n",
      " [4 5 6]\n",
      " [7 8 9]]\n"
     ]
    }
   ],
   "source": [
    "A = np.array([[1, 2, 3], [4, 5, 6], [7, 8, 9]])\n",
    "print('A = ')\n",
    "print(A)\n",
    "\n",
    "B = np.hstack([A, A])\n",
    "print('B = ')\n",
    "print(B)\n",
    "\n",
    "C = np.vstack([A, A])\n",
    "print('C = ')\n",
    "print(C)"
   ]
  },
  {
   "cell_type": "code",
   "execution_count": 6,
   "id": "c1667f24-5a6b-4eee-b30a-12ddf2eae072",
   "metadata": {},
   "outputs": [
    {
     "ename": "NameError",
     "evalue": "name 'A' is not defined",
     "output_type": "error",
     "traceback": [
      "\u001b[1;31m---------------------------------------------------------------------------\u001b[0m",
      "\u001b[1;31mNameError\u001b[0m                                 Traceback (most recent call last)",
      "Cell \u001b[1;32mIn[6], line 1\u001b[0m\n\u001b[1;32m----> 1\u001b[0m \u001b[43mA\u001b[49m\n",
      "\u001b[1;31mNameError\u001b[0m: name 'A' is not defined"
     ]
    }
   ],
   "source": [
    "A"
   ]
  },
  {
   "cell_type": "markdown",
   "id": "99031fca-b141-4d3f-a7a7-d51731ca937c",
   "metadata": {},
   "source": [
    "*Exercise* <br>\n",
    "Write a code that slices the first and last columns of A, and stacks them into a 3x2 array. Make sure to print the results to verify your solution.<br>\n",
    "A ‘gotcha’ with array indexing is that singleton dimensions are dropped by default. That means A[:, 0] is a one dimensional array, which won’t stack as desired. To preserve singleton dimensions, the index itself can be a slice or array. For example, A[:, :1] returns a two dimensional array with one singleton dimension (i.e. a column vector)."
   ]
  },
  {
   "cell_type": "code",
   "execution_count": 18,
   "id": "622dcd32-2a4e-48ff-a898-300a8b53d742",
   "metadata": {},
   "outputs": [],
   "source": [
    "# A[:,:1]  => All the rows, all the rows the first column\n",
    "# A[:,-1:] => All the rows, all the rows the last column\n",
    "# D = numpy.hstack((A[:, :1], A[:, -1:]))"
   ]
  },
  {
   "cell_type": "code",
   "execution_count": 24,
   "id": "5ac04d06-9cc4-46dc-a56c-3a68ac24b3b8",
   "metadata": {},
   "outputs": [
    {
     "data": {
      "text/plain": [
       "array([[3],\n",
       "       [6],\n",
       "       [9]])"
      ]
     },
     "execution_count": 24,
     "metadata": {},
     "output_type": "execute_result"
    }
   ],
   "source": [
    "A[:,-1:]"
   ]
  },
  {
   "cell_type": "markdown",
   "id": "9f2bab0b-3da3-4e73-96c0-d63538829ca5",
   "metadata": {},
   "source": [
    "#### Changes in time\n",
    "For many variables, the change in its values over time is a meaningful insight.\n",
    "The numpy *diff* function takes an aarray and returns the difference between two successive values<br>\n",
    "Let’s find out how to calculate changes in the data contained in an array with NumPy."
   ]
  },
  {
   "cell_type": "code",
   "execution_count": 36,
   "id": "b09a407a-c5b6-40f0-9137-620c4fcfdeba",
   "metadata": {},
   "outputs": [],
   "source": [
    "# print the data for patient 3 week 1 -->\n"
   ]
  },
  {
   "cell_type": "code",
   "execution_count": 37,
   "id": "6488055b-0ad4-4dea-a452-ca19394530f9",
   "metadata": {},
   "outputs": [
    {
     "data": {
      "text/plain": [
       "array([ 1.,  0.,  2.,  0., -1.,  4.])"
      ]
     },
     "execution_count": 37,
     "metadata": {},
     "output_type": "execute_result"
    }
   ],
   "source": [
    "# compute the diff for that period --> np.diff()\n",
    "np.diff(data[2,:7])"
   ]
  },
  {
   "cell_type": "markdown",
   "id": "0e168cc2-f5ea-4e81-bb48-d382f1ea488d",
   "metadata": {},
   "source": [
    "**Key points**\n",
    "<ul>\n",
    "    <li>\n",
    "      Import a library into a program using import libraryname.  \n",
    "    </li>\n",
    "    <li>\n",
    "       Use the numpy library to work with arrays in Python. \n",
    "    </li>\n",
    "    <li>\n",
    "       The expression array.shape gives the shape of an array. \n",
    "    </li>\n",
    "    <li>\n",
    "      Use array[x, y] to select a single element from a 2D array.\n",
    "    </li>\n",
    "    <li>\n",
    "      Use numpy.mean(array), numpy.amax(array), and numpy.amin(array) to calculate simple statistics.\n",
    "    </li>\n",
    "    <li>\n",
    "      Use numpy.mean(array, axis=0) or numpy.mean(array, axis=1) to calculate statistics across the specified axis.\n",
    "    </li>\n",
    "    <li>\n",
    "      Array indices start at 0, not 1.\n",
    "    </li>\n",
    "    <li>\n",
    "      Use low:high to specify a slice that includes the indices from low to high-1.\n",
    "    </li>\n",
    "    \n",
    "</ul>"
   ]
  },
  {
   "cell_type": "code",
   "execution_count": null,
   "id": "7897e29a-9277-44ea-a377-7730c82b118c",
   "metadata": {},
   "outputs": [],
   "source": []
  }
 ],
 "metadata": {
  "kernelspec": {
   "display_name": "Python 3 (ipykernel)",
   "language": "python",
   "name": "python3"
  },
  "language_info": {
   "codemirror_mode": {
    "name": "ipython",
    "version": 3
   },
   "file_extension": ".py",
   "mimetype": "text/x-python",
   "name": "python",
   "nbconvert_exporter": "python",
   "pygments_lexer": "ipython3",
   "version": "3.8.19"
  }
 },
 "nbformat": 4,
 "nbformat_minor": 5
}
