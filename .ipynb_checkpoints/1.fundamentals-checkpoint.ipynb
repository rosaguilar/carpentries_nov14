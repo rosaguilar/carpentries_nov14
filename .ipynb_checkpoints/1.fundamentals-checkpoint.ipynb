{
 "cells": [
  {
   "cell_type": "markdown",
   "id": "20b73f92-1617-49d2-813c-4e6671eb882d",
   "metadata": {},
   "source": [
    "### 1. Python Fundamentals - time estimated: 30 min"
   ]
  },
  {
   "cell_type": "markdown",
   "id": "d091cf8a-d601-477e-a1bf-a61aa457a020",
   "metadata": {},
   "source": [
    "#### Variables\n",
    "Any Python interpreter can be used as a calculator <br>\n",
    "Who are **not** familiar with jupyter notebooks?"
   ]
  },
  {
   "cell_type": "code",
   "execution_count": 1,
   "id": "92c5a256-6ac4-4005-9ed6-3c74a27560a2",
   "metadata": {},
   "outputs": [
    {
     "data": {
      "text/plain": [
       "23"
      ]
     },
     "execution_count": 1,
     "metadata": {},
     "output_type": "execute_result"
    }
   ],
   "source": [
    "# run the cell below\n",
    "3 + 5 * 4"
   ]
  },
  {
   "cell_type": "markdown",
   "id": "64e9dfb3-28da-4107-9e31-17136ed982ff",
   "metadata": {},
   "source": [
    "To do anything with data, we need to assign its value to a *variable*.<br>\n",
    "For example the weight of a person is 60Kg"
   ]
  },
  {
   "cell_type": "code",
   "execution_count": null,
   "id": "c1a22571-c825-4250-adc9-8dea7e58e907",
   "metadata": {},
   "outputs": [],
   "source": [
    "weight_kg= 60"
   ]
  },
  {
   "cell_type": "markdown",
   "id": "8a0b5ebf-a740-49f7-9911-9ab437931ef9",
   "metadata": {},
   "source": [
    "From now on, whenever we use weight_kg, Python will substitute the value we assigned to it. Intuitively, a variable is a name for a value. <br>\n",
    "\n",
    "In Python, variable names:\n",
    "<ul>\n",
    "    <li>\n",
    "      can include letters, digits, and underscores\n",
    "    </li>\n",
    "    <li>\n",
    "      cannot start with a digit\n",
    "    </li>\n",
    "    <li>\n",
    "      are case sensitive.\n",
    "    </li>\n",
    "</ul>\n",
    "\n",
    "This means that, for example:<br>\n",
    "<ul>\n",
    "    <li>\n",
    "      weight0 is a valid variable name, whereas 0weight is not\n",
    "    </li>\n",
    "    <li>\n",
    "      weight and Weight are different variables\n",
    "    </li>\n",
    "</ul>"
   ]
  },
  {
   "cell_type": "markdown",
   "id": "1ac4075d-66e4-484b-9145-27ae7bef43f2",
   "metadata": {},
   "source": [
    "#### Data types\n",
    "Python knows various datatypes (types of data).<br>\n",
    "Three common ones are:\n",
    "<ul>\n",
    "    <li>\n",
    "      integer numbers  \n",
    "    </li>\n",
    "    <li>\n",
    "      floating point numbers, and\n",
    "    </li>\n",
    "    <li>\n",
    "      strings (e.g., to store text) \n",
    "    </li>\n",
    "</ul>\n",
    "\n",
    "Often you will not declare the datatype <br>\n",
    "Conversion between datatypes is possible <br>\n"
   ]
  },
  {
   "cell_type": "code",
   "execution_count": null,
   "id": "9828967a-4e24-4ef6-b91c-132530066e8e",
   "metadata": {},
   "outputs": [],
   "source": [
    "# Assigning a floating point value - weight_kg = 60.3\n"
   ]
  },
  {
   "cell_type": "code",
   "execution_count": null,
   "id": "1bde499a-e5ca-4f2d-b26c-1f99f149c4bb",
   "metadata": {},
   "outputs": [],
   "source": [
    "# To create a string that stores the patient id patient_id=''001'\n"
   ]
  },
  {
   "cell_type": "markdown",
   "id": "afc6824d-1fdf-44d4-820d-fb650de21ac0",
   "metadata": {},
   "source": [
    "#### Using variables in Python\n",
    "Once we have data stored with variable names, we can make use of it in calculations. We may want to store our patient’s weight in pounds as well as kilograms:"
   ]
  },
  {
   "cell_type": "code",
   "execution_count": null,
   "id": "cd96ffd4-4169-4efe-b2e1-263ffcd1f37a",
   "metadata": {},
   "outputs": [],
   "source": [
    "# weight_lb = 2.2 * weight_kg\n"
   ]
  },
  {
   "cell_type": "code",
   "execution_count": null,
   "id": "a198938a-1dc1-4b0a-9527-24c3a5a8b119",
   "metadata": {},
   "outputs": [],
   "source": [
    "# add a prefix to the patient identifier --> patient_id = 'inflam_' + patient_id\n"
   ]
  },
  {
   "cell_type": "markdown",
   "id": "81584683-7153-4a1d-8682-6a8c20079d06",
   "metadata": {},
   "source": [
    "#### Built-in Python functions\n",
    "Python provides several built-in or native functions. For example, we can use *print* to display information to the screen.<br>"
   ]
  },
  {
   "cell_type": "code",
   "execution_count": null,
   "id": "6e890e9c-ff69-438d-9dfb-0297010becfd",
   "metadata": {},
   "outputs": [],
   "source": [
    "# print(weight_lb) and print(patient_id)"
   ]
  },
  {
   "cell_type": "markdown",
   "id": "a47a5446-5cbe-41e0-b5cc-027c9a1eb377",
   "metadata": {},
   "source": [
    "When we want to use a function also known as \"calling a function\", we use the name of the function followed by parentheses. The parentheses are important: if you leave them off, the function doesn’t actually run! <br>\n",
    "Sometimes you will include values or variables inside the parentheses for the function to use. In the case of print, we use the parentheses to tell the function what value we want to display. <br>\n",
    "We can display multiple things at once using only one print call:"
   ]
  },
  {
   "cell_type": "code",
   "execution_count": null,
   "id": "81c7519f-1fd6-4ae3-b0b3-a00971ab9b9f",
   "metadata": {},
   "outputs": [],
   "source": [
    "# print(patient_id, 'weight in kilograms:', weight_kg)\n"
   ]
  },
  {
   "cell_type": "markdown",
   "id": "5ef3ceef-3ea6-49d0-a3a5-1db94ff68e85",
   "metadata": {},
   "source": [
    "We can also call a function inside of another **function call**. For example, Python has a built-in function called type that tells you a value’s data type:"
   ]
  },
  {
   "cell_type": "code",
   "execution_count": null,
   "id": "0f0eb168-e850-4b32-ab8b-01c04b378c1f",
   "metadata": {},
   "outputs": [],
   "source": [
    "# print(type(60.3)) and print(type(patient_id))"
   ]
  },
  {
   "cell_type": "markdown",
   "id": "e3fef413-eab1-47d4-ba24-2d972fa25d37",
   "metadata": {},
   "source": [
    "Moreover, we can do arithmetic with variables right inside the print function:"
   ]
  },
  {
   "cell_type": "code",
   "execution_count": null,
   "id": "844e4b88-0c32-439c-8325-c8a6746cdd8d",
   "metadata": {},
   "outputs": [],
   "source": [
    "# print('weight in pounds:', 2.2 * weight_kg)"
   ]
  },
  {
   "cell_type": "markdown",
   "id": "1c95f45e-2987-4c66-846e-c776278f51a7",
   "metadata": {},
   "source": [
    "To change the value of the weight_kg variable, we have to **assign** weight_kg a new value using the equals = sign:"
   ]
  },
  {
   "cell_type": "code",
   "execution_count": null,
   "id": "1f65effe-b213-4144-bca6-c648381a265f",
   "metadata": {},
   "outputs": [],
   "source": [
    "# weight_kg = 65.0\n",
    "# print('weight in kilograms is now:', weight_kg)"
   ]
  },
  {
   "cell_type": "markdown",
   "id": "57810ed9-332f-4e3f-8a80-4ee026c5670d",
   "metadata": {},
   "source": [
    "Changing the value of a variable will not change the value of another one.\n"
   ]
  },
  {
   "cell_type": "code",
   "execution_count": 3,
   "id": "cf3543ad-bcd4-46dd-9a60-462b99942291",
   "metadata": {},
   "outputs": [],
   "source": [
    "# There are 2.2 pounds per kilogram\n",
    "# weight_lb = 2.2 * weight_kg\n",
    "# print('weight in kilograms:', weight_kg, 'and in pounds:', weight_lb)"
   ]
  },
  {
   "cell_type": "markdown",
   "id": "45de863c-7643-4020-803c-8a48590dbbe6",
   "metadata": {},
   "source": [
    "If we adjust the value of *weight_kg*, the value of *weight_lb* is not altered"
   ]
  },
  {
   "cell_type": "code",
   "execution_count": 5,
   "id": "43fa92d1-6d2e-4552-b167-ae2cdf2cc711",
   "metadata": {},
   "outputs": [],
   "source": [
    "# weight_kg = 100.0\n",
    "# print('weight in kilograms is now:', weight_kg, 'and weight in pounds is still:', weight_lb)"
   ]
  },
  {
   "cell_type": "markdown",
   "id": "e1b3c891-1cff-4add-9cec-18fa4cf54e26",
   "metadata": {},
   "source": [
    "#### To consider\n",
    "<ul>\n",
    "    <li>\n",
    "      The execution order: from top to down\n",
    "    </li>\n",
    "    <li>\n",
    "      The order of inline execution: first left then assign to the right\n",
    "    </li>\n",
    "</ul>"
   ]
  },
  {
   "cell_type": "code",
   "execution_count": null,
   "id": "4b5f4d6e-df6b-4c62-b7d5-12749719ff6f",
   "metadata": {},
   "outputs": [],
   "source": [
    "# example  - order\n",
    "# A = 2\n",
    "# B = A + 3\n",
    "# print(B)\n",
    "# A = 5\n",
    "# C = A + 3\n",
    "# print(C)\n",
    "# print(B)"
   ]
  },
  {
   "cell_type": "code",
   "execution_count": null,
   "id": "6fdfd1b7-df09-448c-bad7-08b19044feb7",
   "metadata": {},
   "outputs": [],
   "source": [
    "# example\n",
    "# A = 2\n",
    "# A = A + 3\n",
    "# print (A)"
   ]
  },
  {
   "cell_type": "markdown",
   "id": "798e0b27-e0c8-426f-a65d-37d75c5912cc",
   "metadata": {},
   "source": [
    "#### Checking your understanding\n",
    "What values do the variables mass and age have after each of the following statements? Test your answer by executing the lines."
   ]
  },
  {
   "cell_type": "code",
   "execution_count": null,
   "id": "4c7750ac-29a5-4b18-96d7-dd19f0cea32b",
   "metadata": {},
   "outputs": [],
   "source": [
    "mass = 47.5\n",
    "age = 122\n",
    "mass = mass * 2.0\n",
    "age = age - 20"
   ]
  },
  {
   "cell_type": "markdown",
   "id": "98fbbd31-2c0b-476a-ab4a-a650bbfeb4c7",
   "metadata": {},
   "source": [
    "#### Sorting Out References\n",
    "Python allows you to assign multiple values to multiple variables in one line by separating the variables and values with commas. What does the following program print out?"
   ]
  },
  {
   "cell_type": "code",
   "execution_count": null,
   "id": "a0d5833b-9ba4-4004-afd6-05ea2dae99bd",
   "metadata": {},
   "outputs": [],
   "source": [
    "first, second = 'Grace', 'Hopper'\n",
    "third, fourth = second, first\n",
    "print(third, fourth)"
   ]
  },
  {
   "cell_type": "markdown",
   "id": "5b734745-d127-4d78-b43d-495d866e8bda",
   "metadata": {},
   "source": [
    "What are the data types of the following variables?"
   ]
  },
  {
   "cell_type": "code",
   "execution_count": null,
   "id": "b2bc96dc-e88b-48ff-b2b1-603d2cf40258",
   "metadata": {},
   "outputs": [],
   "source": [
    "planet = 'Earth'\n",
    "apples = 5\n",
    "distance = 10.5"
   ]
  },
  {
   "cell_type": "code",
   "execution_count": null,
   "id": "f2b9109d-37ec-4760-b8a1-93d318bef5a3",
   "metadata": {},
   "outputs": [],
   "source": [
    "# write here the code hint: uise the function type"
   ]
  },
  {
   "cell_type": "markdown",
   "id": "fafdc0ec-f80d-46bb-8723-522d9b84cb5a",
   "metadata": {},
   "source": [
    "#### Summary\n",
    "<ul>\n",
    "    <li>\n",
    "      Basic data types in Python include integers, strings, and floating-point numbers.  \n",
    "    </li>\n",
    "     <li>\n",
    "       Use variable = value to assign a value to a variable in order to record it in memory. \n",
    "    </li>\n",
    "     <li>\n",
    "      Variables are created on demand whenever a value is assigned to them.  \n",
    "    </li>\n",
    "     <li>\n",
    "        Use print(something) to display the value of something.\n",
    "    </li>\n",
    "     <li>\n",
    "        Use # some kind of explanation to add comments to programs.\n",
    "    </li>\n",
    "    <li>\n",
    "      Built-in functions are always available to use.  \n",
    "    </li>\n",
    "</ul>"
   ]
  }
 ],
 "metadata": {
  "kernelspec": {
   "display_name": "Python 3 (ipykernel)",
   "language": "python",
   "name": "python3"
  },
  "language_info": {
   "codemirror_mode": {
    "name": "ipython",
    "version": 3
   },
   "file_extension": ".py",
   "mimetype": "text/x-python",
   "name": "python",
   "nbconvert_exporter": "python",
   "pygments_lexer": "ipython3",
   "version": "3.8.19"
  }
 },
 "nbformat": 4,
 "nbformat_minor": 5
}
