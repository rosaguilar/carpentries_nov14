{
 "cells": [
  {
   "cell_type": "markdown",
   "id": "165c9a1b-a691-4a57-a915-ba88b64015ad",
   "metadata": {},
   "source": [
    "**Programming with Python- Day1**\n",
    "\n",
    "Carpentries Software workshop. **University of Twente**. November 14, 2024.\n",
    "\n",
    "Adapted by **Dr. Rosa Aguilar**, from the software carpentry **Programming with Python** material"
   ]
  },
  {
   "cell_type": "markdown",
   "id": "57eb79af-3812-4595-88cd-8682ca246f46",
   "metadata": {},
   "source": [
    "### Visualizing data\n",
    "*The purpose of computing is insight, not numbers*. Richard Hamming<br>\n",
    "In this notebook we will explore a few features of Python's **matplotlib** that is not a *official* plotting\n",
    "library, **matplotlib** is the *de facto standard*.\n",
    "In the following exercise we will first import the pyplot module from matplotlib and use two of its functions to create and display a heat map of our data. It is common to give an alias to modules and libraries. The pyplot module from matplotlib is usually import as *plt*"
   ]
  },
  {
   "cell_type": "code",
   "execution_count": null,
   "id": "6b782a96-eff0-43ac-b653-25fa8461c285",
   "metadata": {},
   "outputs": [],
   "source": [
    "# import numpy and read the patient data\n",
    "import numpy as np\n",
    "data = np.loadtxt(fname='./swc-python/data/inflammation-01.csv', delimiter=',')"
   ]
  },
  {
   "cell_type": "markdown",
   "id": "23c26fa2-eb6f-4aa3-9ffa-0b44adb5b8ed",
   "metadata": {},
   "source": [
    "The code belows uses a function *imgshow* to display data as an image. <br>\n",
    "*imgshow* receives an array-like data to render it as an image. \n",
    "```\n",
    "import matplotlib.pyplot as plt\n",
    "image = plt.imshow(data)\n",
    "plt.show()\n",
    "```"
   ]
  },
  {
   "cell_type": "code",
   "execution_count": null,
   "id": "ffaf359f-d254-41b2-ab6e-54e39e587b81",
   "metadata": {},
   "outputs": [],
   "source": [
    "# write the code here to import pyplot using an alias, generate an image, and show with plt\n",
    "import matplotlib.pyplot as plt\n",
    "image = plt.imshow(data)\n",
    "plt.show()"
   ]
  },
  {
   "cell_type": "markdown",
   "id": "79ab2f26-3b2b-4464-92c6-d1ad373b6753",
   "metadata": {},
   "source": [
    "**Insights**\n",
    "\n",
    "Each row in the heat map corresponds to a patient in the clinical trial dataset, and each column corresponds to a day in the dataset. Blue pixels in this heat map represent low values, while yellow pixels represent high values. As we can see, the general number of inflammation flare-ups for the patients rises and falls over a 40-day period.\n",
    "<ul>\n",
    "    <li>the patients take their medication once their inflammation flare-ups begin</li>\n",
    "    <li>it takes around 3 weeks for the medication to take effect and begin reducing flare-ups</li>\n",
    "    <li>and flare-ups appear to drop to zero by the end of the clinical trial.</li>\n",
    "</ul>\n",
    "\n",
    "Let's consider the average inflammation (all patients) over time"
   ]
  },
  {
   "cell_type": "code",
   "execution_count": null,
   "id": "392ff774-b110-48b1-8e7c-2f3129bc55ee",
   "metadata": {},
   "outputs": [],
   "source": [
    "# write code here to assign the average inflammation to a variable and make a plot and show it"
   ]
  },
  {
   "cell_type": "code",
   "execution_count": null,
   "id": "0e24b3bb-fb74-4066-a781-3b281fe9fe14",
   "metadata": {},
   "outputs": [],
   "source": [
    "print(inf_mean.shape)"
   ]
  },
  {
   "cell_type": "code",
   "execution_count": null,
   "id": "fa65885f-22e8-4dcc-b908-da1ee3164b47",
   "metadata": {},
   "outputs": [],
   "source": [
    "# assign the average to a var\n",
    "inf_mean = np.mean(data, axis=0)\n",
    "# assign the plot to a var\n",
    "plot_mean = plt.plot(inf_mean)\n",
    "# show the plot \n",
    "plt.show()"
   ]
  },
  {
   "cell_type": "markdown",
   "id": "e8104cc4-bf3c-4bb3-bf07-da858a24aa19",
   "metadata": {},
   "source": [
    "*Exercise*\n",
    "\n",
    "Test your understanding: write the code in the cell below to create and display a graph with the maximum inflammation over time.\n"
   ]
  },
  {
   "cell_type": "code",
   "execution_count": null,
   "id": "83e5e744-79a7-4c8a-8847-95b834b45029",
   "metadata": {},
   "outputs": [],
   "source": [
    "# write your code here\n",
    "max_inf = np.max(data, axis=0)\n",
    "plt.plot(max_inf)\n",
    "plt.show()"
   ]
  },
  {
   "cell_type": "code",
   "execution_count": null,
   "id": "fcf47d8a-e8cb-4cb4-85c2-70ae947459ad",
   "metadata": {},
   "outputs": [],
   "source": [
    "# similarly, write the code for the minimum inflammation\n",
    "min_inf = np.min(data, axis=0)\n",
    "plt.plot(min_inf)\n",
    "plt.show()"
   ]
  },
  {
   "cell_type": "markdown",
   "id": "35a41bd8-26a1-42ef-aadf-b818e8755199",
   "metadata": {},
   "source": [
    "**Insights**\n",
    "\n",
    "The maximum value rises and falls linearly, while the minimum seems to be a step function. Neither trend seems particularly likely, so either there’s a mistake in our calculations or something is wrong with our data. This insight would have been difficult to reach by examining the numbers themselves without visualization tools"
   ]
  },
  {
   "cell_type": "markdown",
   "id": "538a58d1-8fc3-4974-aba1-908b1cd30838",
   "metadata": {},
   "source": [
    "#### Grouping graphs\n",
    "You can group graphs in a single figure. The scripts below uses new commands\n",
    "<ul>\n",
    "    <li>The function <i>plt.figure()</i> creates a space into which we will place all of our plots</li>\n",
    "    <li>The parameter <i>figsize</i> tells Python how big to make this space</li>\n",
    "    <li>The <i>add_subplot</i> method places each subplot into the figure. <i>add_suplot</i> takes three arguments: rows and columns in the subplot, which position the variable being created will refer to (left_to-right, top-to-bottom)</li>\n",
    "    <li>Once a subplot is created, the axes can be titled using the <i>set_xlabel()</i> command (or <i>set_ylabel()</i>)</li>\n",
    "</ul>\n",
    "The code below shows the three plots next to each other\n",
    "\n",
    "```\n",
    "import numpy\n",
    "import matplotlib.pyplot\n",
    "\n",
    "data = numpy.loadtxt(fname='inflammation-01.csv', delimiter=',')\n",
    "\n",
    "fig = matplotlib.pyplot.figure(figsize=(10.0, 3.0))\n",
    "\n",
    "axes1 = fig.add_subplot(1, 3, 1)\n",
    "axes2 = fig.add_subplot(1, 3, 2)\n",
    "axes3 = fig.add_subplot(1, 3, 3)\n",
    "\n",
    "axes1.set_ylabel('average')\n",
    "axes1.plot(numpy.mean(data, axis=0))\n",
    "\n",
    "axes2.set_ylabel('max')\n",
    "axes2.plot(numpy.amax(data, axis=0))\n",
    "\n",
    "axes3.set_ylabel('min')\n",
    "axes3.plot(numpy.amin(data, axis=0))\n",
    "\n",
    "fig.tight_layout()\n",
    "\n",
    "matplotlib.pyplot.savefig('inflammation.png')\n",
    "matplotlib.pyplot.show()\n",
    "```\n",
    "\n",
    "<img src=\"inflammation-01-group-plot.svg\" width=\"600\">"
   ]
  },
  {
   "cell_type": "code",
   "execution_count": null,
   "id": "96d80e85-191e-4541-8bbd-4226f23f9d16",
   "metadata": {},
   "outputs": [],
   "source": [
    "# stop here and explain the code/ write down step by step\n",
    "fig = plt.figure(figsize=(10.0, 3.0))\n",
    "\n",
    "axes1 = fig.add_subplot(1, 3, 1)\n",
    "axes2 = fig.add_subplot(1, 3, 2)\n",
    "axes3 = fig.add_subplot(1, 3, 3)\n",
    "axes1.set_ylabel('average')\n",
    "axes1.plot(np.mean(data, axis=0))\n",
    "axes2.set_ylabel('max')\n",
    "axes2.plot(np.amax(data, axis=0))\n",
    "axes3.set_ylabel('min')\n",
    "axes3.plot(np.amin(data, axis=0))\n",
    "plt.savefig('myfirstplot.png')\n",
    "plt.show()"
   ]
  },
  {
   "cell_type": "markdown",
   "id": "b43c6b2b-c61d-4d88-b13c-c4fac9dfc70c",
   "metadata": {},
   "source": [
    "**Key points**\n",
    "Use the pyplot module to create simple visualizations <br>\n",
    "**Bonus**: there are high-level libraries for visualization that are built on top of Matplotlib"
   ]
  },
  {
   "cell_type": "code",
   "execution_count": null,
   "id": "4b0832a1-ba1f-4d63-ad54-bad4ef697937",
   "metadata": {},
   "outputs": [],
   "source": []
  }
 ],
 "metadata": {
  "kernelspec": {
   "display_name": "Python [conda env:base] *",
   "language": "python",
   "name": "conda-base-py"
  },
  "language_info": {
   "codemirror_mode": {
    "name": "ipython",
    "version": 3
   },
   "file_extension": ".py",
   "mimetype": "text/x-python",
   "name": "python",
   "nbconvert_exporter": "python",
   "pygments_lexer": "ipython3",
   "version": "3.12.7"
  }
 },
 "nbformat": 4,
 "nbformat_minor": 5
}
