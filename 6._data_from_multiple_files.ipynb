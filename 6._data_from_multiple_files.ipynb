{
 "cells": [
  {
   "cell_type": "markdown",
   "id": "9a0325ed-16bd-4316-9450-a88bbbcb45b2",
   "metadata": {},
   "source": [
    "**Programming with Python- Day1**\n",
    "\n",
    "Carpentries Software workshop. **University of Twente**. November 14, 2024.\n",
    "\n",
    "Adapted by **Dr. Rosa Aguilar**, from the software carpentry **Programming with Python** material"
   ]
  },
  {
   "cell_type": "markdown",
   "id": "75b5615e-e3a4-4a5d-85f0-e92a179804bc",
   "metadata": {},
   "source": [
    "### Accesing multiple files\n",
    "\n",
    "Sometimes we need to process several files. The library *glob* provides us a way to do so.\n",
    "\n",
    "The *glob* library contains a function, also called glob, that finds files and directories whose names match a pattern. We provide those patterns as strings: the character <b>* </b>matches zero or more characters, while <b>?</b> matches any one character. We can use this to get the names of all the CSV files in the current directory:\n",
    "```\n",
    "import glob\n",
    "print(glob.glob('inflammation*.csv')\n",
    "```"
   ]
  },
  {
   "cell_type": "code",
   "execution_count": null,
   "id": "92cada4d-f464-460b-8f98-2a3239d62431",
   "metadata": {},
   "outputs": [],
   "source": [
    "# write the code here to print all the inflammation datasets\n",
    "import glob\n",
    "print(glob.glob('./swc-python/data/inflammation*.csv'))"
   ]
  },
  {
   "cell_type": "markdown",
   "id": "0b0bab5f-3aff-4b3f-97ea-77fee6da77a6",
   "metadata": {},
   "source": [
    "As these examples show, glob.glob’s result is a list of file and directory paths in arbitrary order. This means we can loop over it to do something with each filename in turn. In our case, the “something” we want to do is generate a set of plots for each file in our inflammation dataset.\n",
    "\n",
    "If we want to start by analyzing just the first three files in alphabetical order, we can use the sorted built-in function to generate a new sorted list from the glob.glob output:\n",
    "\n",
    "```\n",
    "import glob\n",
    "import numpy\n",
    "import matplotlib.pyplot\n",
    "\n",
    "filenames = sorted(glob.glob('inflammation*.csv'))\n",
    "filenames = filenames[0:3]\n",
    "for filename in filenames:\n",
    "    print(filename)\n",
    "\n",
    "    data = numpy.loadtxt(fname=filename, delimiter=',')\n",
    "\n",
    "    fig = matplotlib.pyplot.figure(figsize=(10.0, 3.0))\n",
    "\n",
    "    axes1 = fig.add_subplot(1, 3, 1)\n",
    "    axes2 = fig.add_subplot(1, 3, 2)\n",
    "    axes3 = fig.add_subplot(1, 3, 3)\n",
    "\n",
    "    axes1.set_ylabel('average')\n",
    "    axes1.plot(numpy.mean(data, axis=0))\n",
    "\n",
    "    axes2.set_ylabel('max')\n",
    "    axes2.plot(numpy.amax(data, axis=0))\n",
    "\n",
    "    axes3.set_ylabel('min')\n",
    "    axes3.plot(numpy.amin(data, axis=0))\n",
    "\n",
    "    fig.tight_layout()\n",
    "    matplotlib.pyplot.show()\n",
    "```"
   ]
  },
  {
   "cell_type": "code",
   "execution_count": null,
   "id": "4571ebe4-f308-440a-ac02-5ad2c89de6af",
   "metadata": {},
   "outputs": [],
   "source": [
    "# write and execute the code here \n",
    "\n",
    "import numpy\n",
    "import matplotlib.pyplot\n",
    "\n",
    "filenames = sorted(glob.glob('./swc-python/data/inflammation*.csv'))\n",
    "# filenames = filenames[0:3]\n",
    "for filename in filenames:\n",
    "    print(filename)\n",
    "\n",
    "    data = numpy.loadtxt(fname=filename, delimiter=',')\n",
    "\n",
    "    fig = matplotlib.pyplot.figure(figsize=(10.0, 3.0))\n",
    "\n",
    "    axes1 = fig.add_subplot(1, 3, 1)\n",
    "    axes2 = fig.add_subplot(1, 3, 2)\n",
    "    axes3 = fig.add_subplot(1, 3, 3)\n",
    "\n",
    "    axes1.set_ylabel('average')\n",
    "    axes1.plot(numpy.mean(data, axis=0))\n",
    "\n",
    "    axes2.set_ylabel('max')\n",
    "    axes2.plot(numpy.amax(data, axis=0))\n",
    "\n",
    "    axes3.set_ylabel('min')\n",
    "    axes3.plot(numpy.amin(data, axis=0))\n",
    "\n",
    "    fig.tight_layout()\n",
    "    matplotlib.pyplot.show()"
   ]
  },
  {
   "cell_type": "markdown",
   "id": "98fced43-30df-462f-bdcb-ae2c43799318",
   "metadata": {},
   "source": [
    "What can be said about the third dataset?\n",
    "\n",
    "Let's plot a heatmap of the third dataset"
   ]
  },
  {
   "cell_type": "code",
   "execution_count": null,
   "id": "563a396f-9d0f-4ea2-98ce-ff37e085be83",
   "metadata": {},
   "outputs": [],
   "source": [
    "# write here the code to read the file, create the plot, and display it.\n"
   ]
  },
  {
   "cell_type": "markdown",
   "id": "be50ae5e-10ae-4064-ac88-93f5b296ac9a",
   "metadata": {},
   "source": [
    "**Insights**\n",
    "\n",
    "We can see that there are zero values sporadically distributed across all patients and days of the clinical trial, suggesting that there were potential issues with data collection throughout the trial. In addition, we can see that the last patient in the study didn’t have any inflammation flare-ups at all throughout the trial, suggesting that they may not even suffer from arthritis!\n",
    "\n"
   ]
  },
  {
   "cell_type": "markdown",
   "id": "77cffb48-8439-4803-ac8d-71b3372c479f",
   "metadata": {},
   "source": [
    "**Exercise - Plotting Differences**\n",
    "\n",
    "Plot the difference between the average inflammations reported in the first and second datasets (stored in inflammation-01.csv and inflammation-02.csv, correspondingly), i.e., the difference between the leftmost plots of the first two figures.\n"
   ]
  },
  {
   "cell_type": "code",
   "execution_count": null,
   "id": "3cdf9a7b-4975-4991-a6ff-9441938ae69b",
   "metadata": {},
   "outputs": [],
   "source": [
    "# write your code here\n"
   ]
  },
  {
   "cell_type": "markdown",
   "id": "2d40f5f3-19ad-4d3f-8b4c-40003c5a5abd",
   "metadata": {},
   "source": [
    "**Exercise - optional**\n",
    "\n",
    "Use each of the files once to generate a dataset containing values averaged over all patients by completing the code inside the loop given below:\n",
    "```\n",
    "filenames = glob.glob('inflammation*.csv')\n",
    "composite_data = numpy.zeros((60, 40))\n",
    "for filename in filenames:\n",
    "    # sum each new file's data into composite_data as it's read\n",
    "    #\n",
    "# and then divide the composite_data by number of samples\n",
    "composite_data = composite_data / len(filenames)\n",
    "```"
   ]
  },
  {
   "cell_type": "code",
   "execution_count": null,
   "id": "53881394-d8b1-4ee0-b0b7-090e52ca3949",
   "metadata": {},
   "outputs": [],
   "source": [
    "# write the code here\n",
    "\n"
   ]
  },
  {
   "cell_type": "markdown",
   "id": "88b541f1-9e0a-4bc4-9bcf-b62e1e043c28",
   "metadata": {},
   "source": [
    "**Insights**\n",
    "\n",
    "After spending some time investigating the heat map and statistical plots, as well as doing the above exercises to plot differences between datasets and to generate composite patient statistics, we gain some insight into the clinical trial dataset.\n",
    "\n",
    "In fact, it appears that all three of the “noisy” datasets (inflammation-03.csv, inflammation-08.csv, and inflammation-11.csv) are identical down to the last value. We confront the author about the suspicious data and duplicated files. The author has admitted to fabricating the clinical data for their drug trial. <br>\n",
    "\n",
    "**Key points**\n",
    "<ul>\n",
    "    <li>\n",
    "      Use glob.glob(pattern) to create a list of files whose names match a pattern.  \n",
    "    </li>\n",
    "    <li>\n",
    "        Use * in a pattern to match zero or more characters, and ? to match any single character.\n",
    "    </li>\n",
    "</ul>\n",
    "\n",
    "\n"
   ]
  },
  {
   "cell_type": "code",
   "execution_count": null,
   "id": "24962149-69ad-4ed1-9e92-fa7048994113",
   "metadata": {},
   "outputs": [],
   "source": []
  }
 ],
 "metadata": {
  "kernelspec": {
   "display_name": "Python [conda env:base] *",
   "language": "python",
   "name": "conda-base-py"
  },
  "language_info": {
   "codemirror_mode": {
    "name": "ipython",
    "version": 3
   },
   "file_extension": ".py",
   "mimetype": "text/x-python",
   "name": "python",
   "nbconvert_exporter": "python",
   "pygments_lexer": "ipython3",
   "version": "3.12.7"
  }
 },
 "nbformat": 4,
 "nbformat_minor": 5
}
